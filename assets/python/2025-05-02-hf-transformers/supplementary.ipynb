{
 "cells": [
  {
   "cell_type": "markdown",
   "id": "4b2287b3",
   "metadata": {},
   "source": [
    "# Playing with the tokenizer\n",
    "\n",
    "There are 4,107 tokens in total:\n",
    "\n",
    "- 4,096 for each possible 6-mer\n",
    "- 5 for each possible input nucleotide (A, T, C, G and N). They are used as fallback when the sequence is not divisible by 6.\n",
    "- 1 for padding (PAD)\n",
    "- 1 for the mask (MASK)\n",
    "- 1 for the entire sequence (CLS)\n",
    "- 3 additional tokens, which I will mostly ignore\n",
    "\n",
    "All summed up, 4,107 tokens, each represented by an integer."
   ]
  },
  {
   "cell_type": "code",
   "execution_count": 1,
   "id": "fa7e8e73",
   "metadata": {},
   "outputs": [],
   "source": [
    "from transformers import AutoTokenizer"
   ]
  },
  {
   "cell_type": "markdown",
   "id": "73ddca5d",
   "metadata": {},
   "source": [
    "Let's see how the tokenizer works by studying a few examples. Let's first load the models:"
   ]
  },
  {
   "cell_type": "code",
   "execution_count": 2,
   "id": "d8b31e45",
   "metadata": {},
   "outputs": [],
   "source": [
    "tokenizer = AutoTokenizer.from_pretrained(\n",
    "    \"InstaDeepAI/nucleotide-transformer-v2-50m-multi-species\", trust_remote_code=True\n",
    ")"
   ]
  },
  {
   "cell_type": "markdown",
   "id": "7a97788a",
   "metadata": {},
   "source": [
    "Let's tokenize the empty sequence. This should only contain the CLS token:"
   ]
  },
  {
   "cell_type": "code",
   "execution_count": 3,
   "id": "9ea1323e",
   "metadata": {},
   "outputs": [
    {
     "data": {
      "text/plain": [
       "[[3]]"
      ]
     },
     "execution_count": 3,
     "metadata": {},
     "output_type": "execute_result"
    }
   ],
   "source": [
    "tokenizer([\"\"])[\"input_ids\"]"
   ]
  },
  {
   "cell_type": "markdown",
   "id": "5ec224a9",
   "metadata": {},
   "source": [
    "Neat. We see that NT uses integer 3 for CLS. Let's see now how the individual nucleotides are embedded by feeding the tokenizer five 1-nucleotide sequences. Since they are only 1 nucleotide long, it won't use any token representing 6-mer:"
   ]
  },
  {
   "cell_type": "code",
   "execution_count": 4,
   "id": "1ccc35ab",
   "metadata": {},
   "outputs": [
    {
     "data": {
      "text/plain": [
       "[[3, 4102], [3, 4103], [3, 4104], [3, 4105], [3, 4106]]"
      ]
     },
     "execution_count": 4,
     "metadata": {},
     "output_type": "execute_result"
    }
   ],
   "source": [
    "tokenizer([\"A\", \"T\", \"C\", \"G\", \"N\"])[\"input_ids\"]"
   ]
  },
  {
   "cell_type": "markdown",
   "id": "4e94766f",
   "metadata": {},
   "source": [
    "We see now that A = 4102, T = 4103, C = 4104, G = 4105 and N = 4106. Let's play a bit with the sequence length:"
   ]
  },
  {
   "cell_type": "code",
   "execution_count": 5,
   "id": "c6efec79",
   "metadata": {},
   "outputs": [
    {
     "data": {
      "text/plain": [
       "[[3, 4102],\n",
       " [3, 4102, 4102],\n",
       " [3, 4102, 4102, 4102],\n",
       " [3, 4102, 4102, 4102, 4102],\n",
       " [3, 4102, 4102, 4102, 4102, 4102],\n",
       " [3, 4102, 4102, 4102, 4102, 4102],\n",
       " [3, 6]]"
      ]
     },
     "execution_count": 5,
     "metadata": {},
     "output_type": "execute_result"
    }
   ],
   "source": [
    "tokenizer([\"A\", \"AA\", \"AAA\", \"AAAA\", \"AAAAA\", \"AAAAA\", \"AAAAAA\"])[\"input_ids\"]"
   ]
  },
  {
   "cell_type": "markdown",
   "id": "cf4683fb",
   "metadata": {},
   "source": [
    "As soon as the length of the sequence is longer than 6, the tokenizer starts using tokens to represent an 6-mer. In this case, AAAAAA = 6. Let's see now how order matters:"
   ]
  },
  {
   "cell_type": "code",
   "execution_count": 6,
   "id": "6b6311ed",
   "metadata": {},
   "outputs": [
    {
     "data": {
      "text/plain": [
       "[[3, 6, 4103], [3, 1030, 4102]]"
      ]
     },
     "execution_count": 6,
     "metadata": {},
     "output_type": "execute_result"
    }
   ],
   "source": [
    "tokenizer([\"AAAAAAT\", \"TAAAAAA\"])[\"input_ids\"]"
   ]
  },
  {
   "cell_type": "markdown",
   "id": "43900d91",
   "metadata": {},
   "source": [
    "Interesting! This shows us that the tokenizer reads left-to-right in a greedy manner. It tries to split the sequence into 6-mers starting from the left. If there is any subsequence remaining, it will revert to individual nucleotides. Hence, it decomposes AAAAAAT as AAAAAA + T, and TAAAAAA as TAAAAA + A.\n",
    "\n",
    "Let's look into the PAD token. As we have seen, the tokenizer depending on the size of inputs and how they are tokenized, the outputs can be different. The PAD token is a special token to ensure that all output tokens have the same size. We do this by specifying a padding strategy:"
   ]
  },
  {
   "cell_type": "code",
   "execution_count": 7,
   "id": "fbdc458e",
   "metadata": {},
   "outputs": [
    {
     "data": {
      "text/plain": [
       "[[3, 6, 6, 6, 6], [3, 6, 1, 1, 1], [3, 4102, 1, 1, 1]]"
      ]
     },
     "execution_count": 7,
     "metadata": {},
     "output_type": "execute_result"
    }
   ],
   "source": [
    "tokenizer([\"AAAAAAAAAAAAAAAAAAAAAAAA\", \"AAAAAA\", \"A\"], padding=\"longest\")[\"input_ids\"]"
   ]
  },
  {
   "cell_type": "markdown",
   "id": "e184367b",
   "metadata": {},
   "source": [
    "The padding strategy was to find the length of the longest tokenized sequence, and add pad tokens to the shorter tokenized sequences until their length is the same. In this case, the longest sequence was `AAAAAAAAAAAAAAAAAAAAAAAA`, which is reduced to 4 tokens (4 × `AAAAAA`). The other two sequences were padded with the PAD token (1).\n",
    "\n",
    "We can access all the tokens:"
   ]
  },
  {
   "cell_type": "code",
   "execution_count": 8,
   "id": "c4029edf",
   "metadata": {},
   "outputs": [
    {
     "name": "stdout",
     "output_type": "stream",
     "text": [
      "<unk>:\t0\n",
      "<pad>:\t1\n",
      "<mask>:\t2\n",
      "<cls>:\t3\n",
      "<eos>:\t4\n",
      "<bos>:\t5\n",
      "AAAAAA:\t6\n",
      "AAAAAT:\t7\n",
      "AAAAAC:\t8\n",
      "AAAAAG:\t9\n",
      "AAAATA:\t10\n",
      "AAAATT:\t11\n",
      "AAAATC:\t12\n",
      "AAAATG:\t13\n",
      "AAAACA:\t14\n"
     ]
    }
   ],
   "source": [
    "i = 0\n",
    "for k, v in tokenizer.get_vocab().items():\n",
    "    print(f\"{k}:\\t{v}\")\n",
    "    i += 1\n",
    "\n",
    "    if i == 15:\n",
    "        break"
   ]
  },
  {
   "cell_type": "code",
   "execution_count": 9,
   "id": "a8962a2e",
   "metadata": {},
   "outputs": [
    {
     "data": {
      "text/plain": [
       "4107"
      ]
     },
     "execution_count": 9,
     "metadata": {},
     "output_type": "execute_result"
    }
   ],
   "source": [
    "len(tokenizer.get_vocab())"
   ]
  },
  {
   "cell_type": "markdown",
   "id": "b80b84ac",
   "metadata": {},
   "source": [
    "The tokenizer contains tokens that were not considered in the NT article. Some of them are needed to make the model robust to artifacts, like the unknown token (e.g., if our sequence contained other [IUPAC nucleotides](https://en.wikipedia.org/wiki/Nucleic_acid_notation)). The vocabulary also contains tokens to specify the beginning and the end of the sequence, let's see if the tokenizer is able to use them."
   ]
  },
  {
   "cell_type": "code",
   "execution_count": 10,
   "id": "b2460f3c",
   "metadata": {},
   "outputs": [
    {
     "data": {
      "text/plain": [
       "[[3, 4102]]"
      ]
     },
     "execution_count": 10,
     "metadata": {},
     "output_type": "execute_result"
    }
   ],
   "source": [
    "tokenizer([\"A\"], add_special_tokens=True)[\"input_ids\"]"
   ]
  },
  {
   "cell_type": "markdown",
   "id": "41835c66",
   "metadata": {},
   "source": [
    "It seems it doesn't.\n",
    "\n",
    "Last, we should consider the maximum input size of the model. Transformer models cannot take sequences of any length. Specifically, the NT can consider at most sequences of 2,048 tokens (~12 kbp). We can make the tokenizer aware of this limit (`max_length=2048`) and instructing it to truncate longer sequences (`truncation=True`)."
   ]
  },
  {
   "cell_type": "code",
   "execution_count": 11,
   "id": "ee1eac40",
   "metadata": {},
   "outputs": [
    {
     "data": {
      "text/plain": [
       "[[3, 4102]]"
      ]
     },
     "execution_count": 11,
     "metadata": {},
     "output_type": "execute_result"
    }
   ],
   "source": [
    "tokenizer([\"A\"], max_length=5000, truncation=True)[\"input_ids\"]"
   ]
  },
  {
   "cell_type": "markdown",
   "id": "41e3a5c3",
   "metadata": {},
   "source": [
    "Worked out example:"
   ]
  },
  {
   "cell_type": "code",
   "execution_count": 12,
   "id": "9dcb5cc9",
   "metadata": {},
   "outputs": [
    {
     "data": {
      "text/plain": [
       "[[3, 506, 3662, 1567]]"
      ]
     },
     "execution_count": 12,
     "metadata": {},
     "output_type": "execute_result"
    }
   ],
   "source": [
    "tokenizer([\"ATGGTAGCTACATCATCT\"], max_length=5000, truncation=True)[\"input_ids\"]"
   ]
  }
 ],
 "metadata": {
  "jupytext": {
   "cell_metadata_filter": "-all",
   "custom_cell_magics": "kql",
   "encoding": "# -*- coding: utf-8 -*-"
  },
  "kernelspec": {
   "display_name": "Python 3 (ipykernel)",
   "language": "python",
   "name": "python3"
  },
  "language_info": {
   "codemirror_mode": {
    "name": "ipython",
    "version": 3
   },
   "file_extension": ".py",
   "mimetype": "text/x-python",
   "name": "python",
   "nbconvert_exporter": "python",
   "pygments_lexer": "ipython3",
   "version": "3.13.3"
  }
 },
 "nbformat": 4,
 "nbformat_minor": 5
}
